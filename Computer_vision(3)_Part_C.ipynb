{
  "cells": [
    {
      "cell_type": "markdown",
      "metadata": {
        "id": "ZbR9JD4AdT6M"
      },
      "source": [
        "**Problem Statement:**"
      ]
    },
    {
      "cell_type": "markdown",
      "metadata": {
        "id": "xqhJZ0qvdZsX"
      },
      "source": [
        " Company X intends to build a face identification model to recognise human faces.\n",
        "\n",
        " Face Aligned Face Dataset from Pinterest. This dataset contains 10,770 images for 100 people. All images are taken\n",
        "from 'Pinterest' and aligned using dlib library. Some data samples"
      ]
    },
    {
      "cell_type": "code",
      "execution_count": null,
      "metadata": {
        "id": "2FYIFC7JC74B",
        "colab": {
          "base_uri": "https://localhost:8080/"
        },
        "outputId": "6b3eb170-4e51-41a5-ad58-cb1ed25b0bb1"
      },
      "outputs": [
        {
          "output_type": "stream",
          "name": "stdout",
          "text": [
            "Mounted at /content/drive\n"
          ]
        }
      ],
      "source": [
        "from google.colab import drive\n",
        "drive.mount('/content/drive')"
      ]
    },
    {
      "cell_type": "code",
      "execution_count": null,
      "metadata": {
        "id": "h0KNckY_JSHc"
      },
      "outputs": [],
      "source": [
        "file_path = '/content/drive/MyDrive/PINS.zip'"
      ]
    },
    {
      "cell_type": "code",
      "source": [
        "import os\n",
        "if os.path.exists(file_path):\n",
        "    print(\"File exists!\")\n",
        "else:\n",
        "    print(\"File does not exist.\")"
      ],
      "metadata": {
        "colab": {
          "base_uri": "https://localhost:8080/"
        },
        "id": "5Ig6rgecjYGH",
        "outputId": "a6b05fd2-ad64-4abd-9e57-b1c09ae13547"
      },
      "execution_count": null,
      "outputs": [
        {
          "output_type": "stream",
          "name": "stdout",
          "text": [
            "File exists!\n"
          ]
        }
      ]
    },
    {
      "cell_type": "code",
      "source": [
        "from google.colab import files\n",
        "import zipfile\n",
        "\n",
        "uploaded = files.upload()\n",
        "\n",
        "zip_file_name = 'PINS.zip'\n",
        "extract_path = '/content/extracted_data/'\n",
        "\n",
        "with zipfile.ZipFile(zip_file_name, 'r') as zip_ref:\n",
        "    zip_ref.extractall(extract_path)\n",
        "\n",
        "print(\"ZIP file extracted successfully.\")"
      ],
      "metadata": {
        "id": "lURq6KI5jhmM"
      },
      "execution_count": null,
      "outputs": []
    },
    {
      "cell_type": "code",
      "source": [
        "from PIL import Image\n",
        "import matplotlib.pyplot as plt\n",
        "\n",
        "image_folder = '/content/extracted_data/'\n",
        "\n",
        "for root, dirs, files in os.walk(image_folder):\n",
        "    for image_name in files:\n",
        "        image_path = os.path.join(root, image_name)\n",
        "        img = Image.open(image_path)\n",
        "        plt.imshow(img)\n",
        "        plt.title(image_name)\n",
        "        plt.axis('off')\n",
        "        plt.show()"
      ],
      "metadata": {
        "id": "bkYbj4ZRkeJf"
      },
      "execution_count": 18,
      "outputs": []
    },
    {
      "cell_type": "code",
      "source": [
        "from PIL import Image\n",
        "\n",
        "def create_image_metadata(image_path):\n",
        "    try:\n",
        "        img = Image.open(image_path)\n",
        "        metadata = {\n",
        "            'path': image_path,\n",
        "            'format': img.format,\n",
        "            'dimensions': img.size,\n",
        "            'mode': img.mode,\n",
        "            'palette': img.getpalette() if img.mode == 'P' else None,\n",
        "            'num_frames': img.n_frames if hasattr(img, 'n_frames') else 1,\n",
        "            # Add more attributes you want to extract\n",
        "        }\n",
        "        img.close()\n",
        "        return metadata\n",
        "    except Exception as e:\n",
        "        print(f\"Error: {e}\")\n",
        "        return None\n",
        "\n",
        "# Usage example\n",
        "#image_path = '/content/extracted_data/PINS/'\n",
        "metadata = create_image_metadata(image_path)\n",
        "if metadata:\n",
        "    print(\"Image Metadata:\")\n",
        "    for key, value in metadata.items():\n",
        "        print(f\"{key}: {value}\")\n"
      ],
      "metadata": {
        "id": "Rv7xZOGn71y2"
      },
      "execution_count": null,
      "outputs": []
    },
    {
      "cell_type": "code",
      "source": [
        "from PIL import Image\n",
        "import os\n",
        "\n",
        "def create_image_metadata(image_path):\n",
        "    try:\n",
        "        img = Image.open(image_path)\n",
        "        metadata = {\n",
        "            'path': image_path,\n",
        "            'format': img.format,\n",
        "            'dimensions': img.size,\n",
        "            'mode': img.mode,\n",
        "            'palette': img.getpalette() if img.mode == 'P' else None,\n",
        "            'num_frames': img.n_frames if hasattr(img, 'n_frames') else 1,\n",
        "            # Add more attributes you want to extract\n",
        "        }\n",
        "        img.close()\n",
        "        return metadata\n",
        "    except Exception as e:\n",
        "        print(f\"Error: {e}\")\n",
        "        return None\n",
        "\n",
        "# Specify the path of the directory containing images\n",
        "image_directory = image_folder\n",
        "\n",
        "# List all image files recursively in the directory and its subdirectories\n",
        "image_files = [os.path.join(root, file) for root, dirs, files in os.walk(image_directory)\n",
        "                for file in files if file.lower().endswith(('.png', '.jpg', '.jpeg', '.gif'))]\n",
        "\n",
        "# Create metadata for each image\n",
        "image_metadata_list = []\n",
        "for image_path in image_files:\n",
        "    metadata = create_image_metadata(image_path)\n",
        "    if metadata:\n",
        "        image_metadata_list.append(metadata)\n",
        "\n",
        "# Print the metadata for each image\n",
        "for idx, metadata in enumerate(image_metadata_list):\n",
        "    print(f\"Metadata for Image {idx + 1}:\")\n",
        "    for key, value in metadata.items():\n",
        "        print(f\"{key}: {value}\")\n",
        "    print()\n"
      ],
      "metadata": {
        "id": "P7lhEUef194B"
      },
      "execution_count": 29,
      "outputs": []
    },
    {
      "cell_type": "code",
      "source": [
        "from facenet_pytorch import MTCNN, InceptionResnetV1\n",
        "from PIL import Image\n",
        "import os\n",
        "\n",
        "# Specify the path to the directory containing face images\n",
        "face_directory = image_folder\n",
        "\n",
        "# Initialize MTCNN for face detection\n",
        "mtcnn = MTCNN()\n",
        "\n",
        "# Initialize InceptionResnetV1 for face embedding generation\n",
        "resnet = InceptionResnetV1(pretrained='vggface2').eval()\n",
        "\n",
        "# Generate embeddings for each face image\n",
        "embeddings = []\n",
        "for root, dirs, files in os.walk(face_directory):\n",
        "    for file in files:\n",
        "        image_path = os.path.join(root, file)\n",
        "        img = Image.open(image_path).convert(\"RGB\")\n",
        "        face, _ = mtcnn(img)\n",
        "        if face is not None:\n",
        "            embedding = resnet(face.unsqueeze(0))\n",
        "            embeddings.append((image_path, embedding))\n",
        "\n",
        "# Print the embeddings\n",
        "for image_path, embedding in embeddings:\n",
        "    print(f\"Image: {image_path}\")\n",
        "    print(\"Embedding:\", embedding)\n",
        "    print()\n"
      ],
      "metadata": {
        "colab": {
          "base_uri": "https://localhost:8080/",
          "height": 49,
          "referenced_widgets": [
            "5fb9393916e54619a1a0d4dc9a4f8735",
            "d4eb146e16904b27a7ea4834326969ef",
            "4d67774a58fa46059b612031b366278e",
            "ed2f77784fdd47c5b105013fc99196cc",
            "c1f99c7e3801454abcd190379b8b0dd8",
            "2927404bcd1d49bfbb5de9e07d4f96e8",
            "1d68a344279e4ddab0b1a72aca35d7ad",
            "0214632f71ea4e019093123aeb029acd",
            "0014fbf186b343e4a5a63c635d1b3458",
            "f874f55dbde94b7da2146a38e1c8f097",
            "d3f5971816014caba8e4161f94873bb0"
          ]
        },
        "id": "3inVLgOc3ozc",
        "outputId": "045bbd36-b5ec-46c4-8e5b-efbc8576bc1c"
      },
      "execution_count": 31,
      "outputs": [
        {
          "output_type": "display_data",
          "data": {
            "text/plain": [
              "  0%|          | 0.00/107M [00:00<?, ?B/s]"
            ],
            "application/vnd.jupyter.widget-view+json": {
              "version_major": 2,
              "version_minor": 0,
              "model_id": "5fb9393916e54619a1a0d4dc9a4f8735"
            }
          },
          "metadata": {}
        }
      ]
    },
    {
      "cell_type": "code",
      "source": [
        "import numpy as np\n",
        "from scipy.spatial.distance import cosine, euclidean\n",
        "\n",
        "# Sample embeddings for two images (replace with actual embeddings)\n",
        "embedding1 = np.array([0.1, 0.5, 0.8, 0.3, 0.6])\n",
        "embedding2 = np.array([0.15, 0.6, 0.85, 0.35, 0.65])\n",
        "embedding3 = np.array([0.9, 0.2, 0.7, 0.1, 0.4])\n",
        "\n",
        "# Calculate cosine similarity\n",
        "cosine_similarity12 = 1 - cosine(embedding1, embedding2)\n",
        "cosine_similarity13 = 1 - cosine(embedding1, embedding3)\n",
        "\n",
        "# Calculate Euclidean distance\n",
        "euclidean_distance12 = euclidean(embedding1, embedding2)\n",
        "euclidean_distance13 = euclidean(embedding1, embedding3)\n",
        "\n",
        "print(\"Cosine Similarity (Image 1 vs Image 2):\", cosine_similarity12)\n",
        "print(\"Cosine Similarity (Image 1 vs Image 3):\", cosine_similarity13)\n",
        "print(\"Euclidean Distance (Image 1 vs Image 2):\", euclidean_distance12)\n",
        "print(\"Euclidean Distance (Image 1 vs Image 3):\", euclidean_distance13)"
      ],
      "metadata": {
        "colab": {
          "base_uri": "https://localhost:8080/"
        },
        "id": "xXMwGF_832az",
        "outputId": "e739ba57-62fa-46f7-bb30-f463d4d31df6"
      },
      "execution_count": 32,
      "outputs": [
        {
          "output_type": "stream",
          "name": "stdout",
          "text": [
            "Cosine Similarity (Image 1 vs Image 2): 0.998337563157484\n",
            "Cosine Similarity (Image 1 vs Image 3): 0.7144055402488071\n",
            "Euclidean Distance (Image 1 vs Image 2): 0.14142135623730948\n",
            "Euclidean Distance (Image 1 vs Image 3): 0.9055385138137417\n"
          ]
        }
      ]
    },
    {
      "cell_type": "code",
      "source": [
        "import numpy as np\n",
        "from sklearn.decomposition import PCA\n",
        "import matplotlib.pyplot as plt\n",
        "\n",
        "# Sample embeddings for multiple images (replace with actual embeddings)\n",
        "embeddings = np.array([\n",
        "    [0.1, 0.5, 0.8, 0.3, 0.6],\n",
        "    [0.15, 0.6, 0.85, 0.35, 0.65],\n",
        "    [0.9, 0.2, 0.7, 0.1, 0.4]\n",
        "])\n",
        "\n",
        "# Perform PCA with desired number of components (dimensions)\n",
        "num_components = 2\n",
        "pca = PCA(n_components=num_components)\n",
        "pca_result = pca.fit_transform(embeddings)\n",
        "\n",
        "# Print explained variance ratios\n",
        "explained_variance_ratios = pca.explained_variance_ratio_\n",
        "print(\"Explained Variance Ratios:\", explained_variance_ratios)\n",
        "\n",
        "# Plot the reduced-dimensional data\n",
        "plt.figure(figsize=(8, 6))\n",
        "plt.scatter(pca_result[:, 0], pca_result[:, 1])\n",
        "plt.title(f'PCA (Reduced to {num_components} Dimensions)')\n",
        "plt.xlabel('Principal Component 1')\n",
        "plt.ylabel('Principal Component 2')\n",
        "plt.show()"
      ],
      "metadata": {
        "colab": {
          "base_uri": "https://localhost:8080/",
          "height": 581
        },
        "id": "11F_SHxd4Esw",
        "outputId": "a723939b-13e7-488a-c7f2-f54925f3a6e7"
      },
      "execution_count": 33,
      "outputs": [
        {
          "output_type": "stream",
          "name": "stdout",
          "text": [
            "Explained Variance Ratios: [0.98312022 0.01687978]\n"
          ]
        },
        {
          "output_type": "display_data",
          "data": {
            "text/plain": [
              "<Figure size 800x600 with 1 Axes>"
            ],
            "image/png": "[encoded data removed]"
          },
          "metadata": {}
        }
      ]
    },
    {
      "cell_type": "code",
      "source": [
        "import os\n",
        "import numpy as np\n",
        "from sklearn.model_selection import train_test_split\n",
        "from sklearn.svm import SVC\n",
        "from sklearn.metrics import accuracy_score\n",
        "\n",
        "# Load your image embeddings and labels (replace with actual data)\n",
        "# Each row in 'X' represents an embedding vector, and 'y' represents labels.\n",
        "X = np.array([\n",
        "    [0.1, 0.5, 0.8, 0.3, 0.6],\n",
        "    [0.15, 0.6, 0.85, 0.35, 0.65],\n",
        "    [0.9, 0.2, 0.7, 0.1, 0.4]\n",
        "])\n",
        "\n",
        "y = np.array([0, 1, 0])  # Replace with actual labels\n",
        "\n",
        "# Split the data into training and testing sets\n",
        "X_train, X_test, y_train, y_test = train_test_split(X, y, test_size=0.2, random_state=42)\n",
        "\n",
        "# Create an SVM classifier\n",
        "svm_classifier = SVC(kernel='linear', C=1.0)\n",
        "\n",
        "# Train the classifier\n",
        "svm_classifier.fit(X_train, y_train)\n",
        "\n",
        "# Make predictions on the test data\n",
        "y_pred = svm_classifier.predict(X_test)\n",
        "\n",
        "# Calculate accuracy\n",
        "accuracy = accuracy_score(y_test, y_pred)\n",
        "print(\"Accuracy:\", accuracy)"
      ],
      "metadata": {
        "colab": {
          "base_uri": "https://localhost:8080/"
        },
        "id": "z0Wm0M8G4TG9",
        "outputId": "cdf00c19-ae0f-4858-bd61-0f17cc03128e"
      },
      "execution_count": 34,
      "outputs": [
        {
          "output_type": "stream",
          "name": "stdout",
          "text": [
            "Accuracy: 0.0\n"
          ]
        }
      ]
    },
    {
      "cell_type": "code",
      "source": [
        "from PIL import Image\n",
        "import os\n",
        "\n",
        "# Specify the path to the directory containing test images\n",
        "test_image_directory = '/content/drive/MyDrive/'\n",
        "\n",
        "# List all image files in the directory\n",
        "test_image_files = [os.path.join(test_image_directory, file) for file in os.listdir(test_image_directory)\n",
        "                    if file.lower().endswith(('.png', '.jpg', '.jpeg', '.gif'))]\n",
        "\n",
        "# Display each test image\n",
        "for image_path in test_image_files:\n",
        "    img = Image.open(image_path)\n",
        "    img.show()\n"
      ],
      "metadata": {
        "id": "BhdjgKm94rsT"
      },
      "execution_count": 37,
      "outputs": []
    },
    {
      "cell_type": "code",
      "source": [
        "import os\n",
        "import numpy as np\n",
        "from sklearn.svm import SVC\n",
        "from PIL import Image\n",
        "from sklearn.preprocessing import LabelEncoder\n",
        "\n",
        "# Load your trained SVM model (replace with actual model)\n",
        "svm_model = SVC(kernel='linear', C=1.0)\n",
        "\n",
        "# Load your image embeddings and labels (replace with actual data)\n",
        "X_train = np.array([\n",
        "    [0.1, 0.5, 0.8, 0.3, 0.6],\n",
        "    [0.15, 0.6, 0.85, 0.35, 0.65],\n",
        "    [0.9, 0.2, 0.7, 0.1, 0.4]\n",
        "])\n",
        "\n",
        "y_train = np.array(['Person', 'PersonB', 'PersonA'])  # Replace with actual labels\n",
        "\n",
        "# Train the SVM model\n",
        "svm_model.fit(X_train, y_train)\n",
        "\n",
        "# Specify the path to the directory containing test images\n",
        "test_image_directory = '/content/drive/MyDrive/'\n",
        "\n",
        "# List all image files in the directory\n",
        "test_image_files = [os.path.join(test_image_directory, file) for file in os.listdir(test_image_directory)\n",
        "                    if file.lower().endswith(('.png', '.jpg', '.jpeg', '.gif'))]\n",
        "\n",
        "# Create a label encoder to map class names to integers\n",
        "label_encoder = LabelEncoder()\n",
        "label_encoder.fit(y_train)\n",
        "\n",
        "# Predict labels for test images\n",
        "for image_path in test_image_files:\n",
        "    img = Image.open(image_path)  # Open the image\n",
        "    # Process the image and generate its embedding\n",
        "    # Replace the following line with actual preprocessing and embedding extraction\n",
        "    test_embedding = np.array([0.12, 0.55, 0.82, 0.29, 0.62])\n",
        "    predicted_label = svm_model.predict([test_embedding])  # Predict the label\n",
        "    predicted_class = label_encoder.inverse_transform(predicted_label)  # Map integer label back to class name\n",
        "    print(f\"Image: {image_path}, Predicted Class: {predicted_class}\")"
      ],
      "metadata": {
        "id": "FLSP_FIB5Cmq"
      },
      "execution_count": null,
      "outputs": []
    },
    {
      "cell_type": "code",
      "source": [],
      "metadata": {
        "id": "OMN28zqy6-zZ"
      },
      "execution_count": null,
      "outputs": []
    }
  ],
  "metadata": {
    "accelerator": "GPU",
    "colab": {
      "provenance": []
    },
    "kernelspec": {
      "display_name": "Python 3",
      "name": "python3"
    },
    "language_info": {
      "name": "python"
    },
    "widgets": {
      "application/vnd.jupyter.widget-state+json": {
        "5fb9393916e54619a1a0d4dc9a4f8735": {
          "model_module": "@jupyter-widgets/controls",
          "model_name": "HBoxModel",
          "model_module_version": "1.5.0",
          "state": {
            "_dom_classes": [],
            "_model_module": "@jupyter-widgets/controls",
            "_model_module_version": "1.5.0",
            "_model_name": "HBoxModel",
            "_view_count": null,
            "_view_module": "@jupyter-widgets/controls",
            "_view_module_version": "1.5.0",
            "_view_name": "HBoxView",
            "box_style": "",
            "children": [
              "IPY_MODEL_d4eb146e16904b27a7ea4834326969ef",
              "IPY_MODEL_4d67774a58fa46059b612031b366278e",
              "IPY_MODEL_ed2f77784fdd47c5b105013fc99196cc"
            ],
            "layout": "IPY_MODEL_c1f99c7e3801454abcd190379b8b0dd8"
          }
        },
        "d4eb146e16904b27a7ea4834326969ef": {
          "model_module": "@jupyter-widgets/controls",
          "model_name": "HTMLModel",
          "model_module_version": "1.5.0",
          "state": {
            "_dom_classes": [],
            "_model_module": "@jupyter-widgets/controls",
            "_model_module_version": "1.5.0",
            "_model_name": "HTMLModel",
            "_view_count": null,
            "_view_module": "@jupyter-widgets/controls",
            "_view_module_version": "1.5.0",
            "_view_name": "HTMLView",
            "description": "",
            "description_tooltip": null,
            "layout": "IPY_MODEL_2927404bcd1d49bfbb5de9e07d4f96e8",
            "placeholder": "​",
            "style": "IPY_MODEL_1d68a344279e4ddab0b1a72aca35d7ad",
            "value": "100%"
          }
        },
        "4d67774a58fa46059b612031b366278e": {
          "model_module": "@jupyter-widgets/controls",
          "model_name": "FloatProgressModel",
          "model_module_version": "1.5.0",
          "state": {
            "_dom_classes": [],
            "_model_module": "@jupyter-widgets/controls",
            "_model_module_version": "1.5.0",
            "_model_name": "FloatProgressModel",
            "_view_count": null,
            "_view_module": "@jupyter-widgets/controls",
            "_view_module_version": "1.5.0",
            "_view_name": "ProgressView",
            "bar_style": "success",
            "description": "",
            "description_tooltip": null,
            "layout": "IPY_MODEL_0214632f71ea4e019093123aeb029acd",
            "max": 111898327,
            "min": 0,
            "orientation": "horizontal",
            "style": "IPY_MODEL_0014fbf186b343e4a5a63c635d1b3458",
            "value": 111898327
          }
        },
        "ed2f77784fdd47c5b105013fc99196cc": {
          "model_module": "@jupyter-widgets/controls",
          "model_name": "HTMLModel",
          "model_module_version": "1.5.0",
          "state": {
            "_dom_classes": [],
            "_model_module": "@jupyter-widgets/controls",
            "_model_module_version": "1.5.0",
            "_model_name": "HTMLModel",
            "_view_count": null,
            "_view_module": "@jupyter-widgets/controls",
            "_view_module_version": "1.5.0",
            "_view_name": "HTMLView",
            "description": "",
            "description_tooltip": null,
            "layout": "IPY_MODEL_f874f55dbde94b7da2146a38e1c8f097",
            "placeholder": "​",
            "style": "IPY_MODEL_d3f5971816014caba8e4161f94873bb0",
            "value": " 107M/107M [00:01&lt;00:00, 63.2MB/s]"
          }
        },
        "c1f99c7e3801454abcd190379b8b0dd8": {
          "model_module": "@jupyter-widgets/base",
          "model_name": "LayoutModel",
          "model_module_version": "1.2.0",
          "state": {
            "_model_module": "@jupyter-widgets/base",
            "_model_module_version": "1.2.0",
            "_model_name": "LayoutModel",
            "_view_count": null,
            "_view_module": "@jupyter-widgets/base",
            "_view_module_version": "1.2.0",
            "_view_name": "LayoutView",
            "align_content": null,
            "align_items": null,
            "align_self": null,
            "border": null,
            "bottom": null,
            "display": null,
            "flex": null,
            "flex_flow": null,
            "grid_area": null,
            "grid_auto_columns": null,
            "grid_auto_flow": null,
            "grid_auto_rows": null,
            "grid_column": null,
            "grid_gap": null,
            "grid_row": null,
            "grid_template_areas": null,
            "grid_template_columns": null,
            "grid_template_rows": null,
            "height": null,
            "justify_content": null,
            "justify_items": null,
            "left": null,
            "margin": null,
            "max_height": null,
            "max_width": null,
            "min_height": null,
            "min_width": null,
            "object_fit": null,
            "object_position": null,
            "order": null,
            "overflow": null,
            "overflow_x": null,
            "overflow_y": null,
            "padding": null,
            "right": null,
            "top": null,
            "visibility": null,
            "width": null
          }
        },
        "2927404bcd1d49bfbb5de9e07d4f96e8": {
          "model_module": "@jupyter-widgets/base",
          "model_name": "LayoutModel",
          "model_module_version": "1.2.0",
          "state": {
            "_model_module": "@jupyter-widgets/base",
            "_model_module_version": "1.2.0",
            "_model_name": "LayoutModel",
            "_view_count": null,
            "_view_module": "@jupyter-widgets/base",
            "_view_module_version": "1.2.0",
            "_view_name": "LayoutView",
            "align_content": null,
            "align_items": null,
            "align_self": null,
            "border": null,
            "bottom": null,
            "display": null,
            "flex": null,
            "flex_flow": null,
            "grid_area": null,
            "grid_auto_columns": null,
            "grid_auto_flow": null,
            "grid_auto_rows": null,
            "grid_column": null,
            "grid_gap": null,
            "grid_row": null,
            "grid_template_areas": null,
            "grid_template_columns": null,
            "grid_template_rows": null,
            "height": null,
            "justify_content": null,
            "justify_items": null,
            "left": null,
            "margin": null,
            "max_height": null,
            "max_width": null,
            "min_height": null,
            "min_width": null,
            "object_fit": null,
            "object_position": null,
            "order": null,
            "overflow": null,
            "overflow_x": null,
            "overflow_y": null,
            "padding": null,
            "right": null,
            "top": null,
            "visibility": null,
            "width": null
          }
        },
        "1d68a344279e4ddab0b1a72aca35d7ad": {
          "model_module": "@jupyter-widgets/controls",
          "model_name": "DescriptionStyleModel",
          "model_module_version": "1.5.0",
          "state": {
            "_model_module": "@jupyter-widgets/controls",
            "_model_module_version": "1.5.0",
            "_model_name": "DescriptionStyleModel",
            "_view_count": null,
            "_view_module": "@jupyter-widgets/base",
            "_view_module_version": "1.2.0",
            "_view_name": "StyleView",
            "description_width": ""
          }
        },
        "0214632f71ea4e019093123aeb029acd": {
          "model_module": "@jupyter-widgets/base",
          "model_name": "LayoutModel",
          "model_module_version": "1.2.0",
          "state": {
            "_model_module": "@jupyter-widgets/base",
            "_model_module_version": "1.2.0",
            "_model_name": "LayoutModel",
            "_view_count": null,
            "_view_module": "@jupyter-widgets/base",
            "_view_module_version": "1.2.0",
            "_view_name": "LayoutView",
            "align_content": null,
            "align_items": null,
            "align_self": null,
            "border": null,
            "bottom": null,
            "display": null,
            "flex": null,
            "flex_flow": null,
            "grid_area": null,
            "grid_auto_columns": null,
            "grid_auto_flow": null,
            "grid_auto_rows": null,
            "grid_column": null,
            "grid_gap": null,
            "grid_row": null,
            "grid_template_areas": null,
            "grid_template_columns": null,
            "grid_template_rows": null,
            "height": null,
            "justify_content": null,
            "justify_items": null,
            "left": null,
            "margin": null,
            "max_height": null,
            "max_width": null,
            "min_height": null,
            "min_width": null,
            "object_fit": null,
            "object_position": null,
            "order": null,
            "overflow": null,
            "overflow_x": null,
            "overflow_y": null,
            "padding": null,
            "right": null,
            "top": null,
            "visibility": null,
            "width": null
          }
        },
        "0014fbf186b343e4a5a63c635d1b3458": {
          "model_module": "@jupyter-widgets/controls",
          "model_name": "ProgressStyleModel",
          "model_module_version": "1.5.0",
          "state": {
            "_model_module": "@jupyter-widgets/controls",
            "_model_module_version": "1.5.0",
            "_model_name": "ProgressStyleModel",
            "_view_count": null,
            "_view_module": "@jupyter-widgets/base",
            "_view_module_version": "1.2.0",
            "_view_name": "StyleView",
            "bar_color": null,
            "description_width": ""
          }
        },
        "f874f55dbde94b7da2146a38e1c8f097": {
          "model_module": "@jupyter-widgets/base",
          "model_name": "LayoutModel",
          "model_module_version": "1.2.0",
          "state": {
            "_model_module": "@jupyter-widgets/base",
            "_model_module_version": "1.2.0",
            "_model_name": "LayoutModel",
            "_view_count": null,
            "_view_module": "@jupyter-widgets/base",
            "_view_module_version": "1.2.0",
            "_view_name": "LayoutView",
            "align_content": null,
            "align_items": null,
            "align_self": null,
            "border": null,
            "bottom": null,
            "display": null,
            "flex": null,
            "flex_flow": null,
            "grid_area": null,
            "grid_auto_columns": null,
            "grid_auto_flow": null,
            "grid_auto_rows": null,
            "grid_column": null,
            "grid_gap": null,
            "grid_row": null,
            "grid_template_areas": null,
            "grid_template_columns": null,
            "grid_template_rows": null,
            "height": null,
            "justify_content": null,
            "justify_items": null,
            "left": null,
            "margin": null,
            "max_height": null,
            "max_width": null,
            "min_height": null,
            "min_width": null,
            "object_fit": null,
            "object_position": null,
            "order": null,
            "overflow": null,
            "overflow_x": null,
            "overflow_y": null,
            "padding": null,
            "right": null,
            "top": null,
            "visibility": null,
            "width": null
          }
        },
        "d3f5971816014caba8e4161f94873bb0": {
          "model_module": "@jupyter-widgets/controls",
          "model_name": "DescriptionStyleModel",
          "model_module_version": "1.5.0",
          "state": {
            "_model_module": "@jupyter-widgets/controls",
            "_model_module_version": "1.5.0",
            "_model_name": "DescriptionStyleModel",
            "_view_count": null,
            "_view_module": "@jupyter-widgets/base",
            "_view_module_version": "1.2.0",
            "_view_name": "StyleView",
            "description_width": ""
          }
        }
      }
    }
  },
  "nbformat": 4,
  "nbformat_minor": 0
}