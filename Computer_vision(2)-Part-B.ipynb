{
 "cells": [
  {
   "cell_type": "markdown",
   "id": "c978f531",
   "metadata": {},
   "source": [
    "# **Poblem Statement: (Part-B)**"
   ]
  },
  {
   "cell_type": "markdown",
   "id": "a2189fed",
   "metadata": {},
   "source": [
    "Company X owns a movie application and repository which caters movie streaming to millions of users who on subscription\n",
    "basis. Company wants to automate the process of cast and crew information in each scene from a movie such that when a user pauses on\n",
    "the movie and clicks on cast information button, the app will show details of the actor in the scene. Company has an in-house computer\n",
    "vision and multimedia experts who need to detect faces from screen shots from the movie scene."
   ]
  },
  {
   "cell_type": "code",
   "execution_count": null,
   "id": "993abb77",
   "metadata": {},
   "outputs": [],
   "source": [
    "#importing neccesary libraries\n",
    "import numpy as np\n",
    "import cv2\n",
    "from sklearn.model_selection import train_test_split\n",
    "from tensorflow.keras.models import Model\n",
    "from tensorflow.keras.layers import Input, Conv2D, MaxPooling2D, UpSampling2D, concatenate\n",
    "import os"
   ]
  },
  {
   "cell_type": "code",
   "execution_count": null,
   "id": "7c5c3641",
   "metadata": {},
   "outputs": [],
   "source": [
    "# Load the pre-trained face detection classifier\n",
    "face_cascade = cv2.CascadeClassifier(cv2.data.haarcascades + 'haarcascade_frontalface_default.xml')"
   ]
  },
  {
   "cell_type": "code",
   "execution_count": null,
   "id": "130c813d",
   "metadata": {},
   "outputs": [],
   "source": [
    "folder_path = r'D:\\\\Great_learning\\\\training_images'\n"
   ]
  },
  {
   "cell_type": "code",
   "execution_count": null,
   "id": "de616b39",
   "metadata": {},
   "outputs": [],
   "source": [
    "# Loop through the images in the folder\n",
    "for filename in os.listdir(folder_path):\n",
    "    if filename.endswith('.jpg') or filename.endswith('.png'):\n",
    "        # Construct the full path to the image\n",
    "        image_path = os.path.join(folder_path, filename)\n",
    "        \n",
    "        # Read the image using OpenCV\n",
    "        image = cv2.imread(image_path)\n",
    "        \n",
    "        if image is not None:\n",
    "            # Convert the image to grayscale\n",
    "            gray = cv2.cvtColor(image, cv2.COLOR_BGR2GRAY)\n",
    "            \n",
    "            # Detect faces in the image\n",
    "            faces = face_cascade.detectMultiScale(gray, scaleFactor=1.1, minNeighbors=5, minSize=(30, 30))\n",
    "            \n",
    "            # Draw rectangles around the detected faces\n",
    "            for (x, y, w, h) in faces:\n",
    "                cv2.rectangle(image, (x, y), (x + w, y + h), (255, 0, 0), 2)\n",
    "            \n",
    "            # Display the image with detected faces\n",
    "            cv2.imshow('Detected Faces', image)\n",
    "            cv2.waitKey(0)\n",
    "            cv2.destroyAllWindows()\n",
    "        else:\n",
    "            print(\"Error reading image:\", image_path)\n",
    "            \n",
    "output_csv_path = 'D:\\Great_learning/face_metadata.csv'\n",
    "face_df.to_csv(output_csv_path, index=False)\n",
    "\n",
    "print(\"Face metadata saved to\", output_csv_path)"
   ]
  }
 ],
 "metadata": {
  "kernelspec": {
   "display_name": "Python 3 (ipykernel)",
   "language": "python",
   "name": "python3"
  },
  "language_info": {
   "codemirror_mode": {
    "name": "ipython",
    "version": 3
   },
   "file_extension": ".py",
   "mimetype": "text/x-python",
   "name": "python",
   "nbconvert_exporter": "python",
   "pygments_lexer": "ipython3",
   "version": "3.9.13"
  }
 },
 "nbformat": 4,
 "nbformat_minor": 5
}
